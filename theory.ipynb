{
 "cells": [
  {
   "cell_type": "code",
   "execution_count": 1,
   "id": "reliable-dispute",
   "metadata": {},
   "outputs": [],
   "source": [
    "import numpy as np\n",
    "import matplotlib.pyplot as plt\n",
    "import scipy.optimize as optimize\n",
    "from pylab import meshgrid,cm,imshow,contour,clabel,colorbar,axis,title,show\n",
    "from scipy.integrate import quad as quad\n",
    "import pandas as pd\n",
    "from numba import jit\n",
    "from scipy.special import erf"
   ]
  },
  {
   "cell_type": "code",
   "execution_count": 2,
   "id": "portable-robert",
   "metadata": {},
   "outputs": [],
   "source": [
    "import quadpy\n",
    "\n",
    "scheme = quadpy.e1r2.gauss_hermite(19)"
   ]
  },
  {
   "cell_type": "code",
   "execution_count": 6,
   "id": "demographic-theta",
   "metadata": {},
   "outputs": [],
   "source": [
    "def Gaussian(x):\n",
    "    return np.exp(-.5*x**2-.5*np.log(2*np.pi))"
   ]
  },
  {
   "cell_type": "code",
   "execution_count": 7,
   "id": "jewish-austin",
   "metadata": {},
   "outputs": [],
   "source": [
    "def ReLu(x):\n",
    "    return np.maximum(x,0)\n",
    "    \n",
    "ϕ=np.sin   #teacher activation\n",
    "f=np.tanh  #student activation"
   ]
  },
  {
   "cell_type": "code",
   "execution_count": 8,
   "id": "stupid-gabriel",
   "metadata": {},
   "outputs": [],
   "source": [
    "df=lambda x: 1-np.tanh(x)**2   #student derivative "
   ]
  },
  {
   "cell_type": "code",
   "execution_count": 11,
   "id": "noticed-institute",
   "metadata": {},
   "outputs": [],
   "source": [
    "#computing hermite coefficients\n",
    "\n",
    "mu1=quad(lambda x: x*f(x)*Gaussian(x), -np.inf, np.inf)[0]     #h1\n",
    "mu2=quad(lambda x: f(x)**2*Gaussian(x), -np.inf, np.inf)[0]    #h2\n",
    "\n",
    "mu1t=quad(lambda x: x*ϕ(x)*Gaussian(x), -np.inf, np.inf)[0]    #h1*\n",
    "mu2t=quad(lambda x: ϕ(x)**2*Gaussian(x), -np.inf, np.inf)[0]   #h2*\n",
    "\n",
    "ss=quad(lambda x: (df(x)-mu1)**2*Gaussian(x), -np.inf, np.inf)[0]   #\\check{h}1\n"
   ]
  },
  {
   "cell_type": "markdown",
   "id": "driven-adelaide",
   "metadata": {},
   "source": [
    "### Computing sRF parameters"
   ]
  },
  {
   "cell_type": "code",
   "execution_count": 13,
   "id": "becoming-apparel",
   "metadata": {},
   "outputs": [],
   "source": [
    "αtrain=20.    #α0\n",
    "η=3           #~η\n",
    "\n",
    "d=2000        #dimension\n",
    "p=d           #hidden layer width\n",
    "\n",
    "np.random.seed(58)\n",
    "W0 = 1/np.sqrt(d)*np.random.randn(p,d)     #W0\n",
    "W0=(W0.T/np.linalg.norm(W0,axis=1)).T\n",
    "\n",
    "if αtrain>0:   #sRF\n",
    "\n",
    "    rescale_th=η*(1/αtrain*mu2t+mu1t**2)**.5*mu1\n",
    "    cW_th=np.sqrt(1+η**2/αtrain*mu2t*ss*mu1**2)\n",
    "\n",
    "    cW=cW_th            #c**.5, bulk variance\n",
    "    rescale=rescale_th  #spike strength r\n",
    "    \n",
    "else:         #network at initialization, a.k.a. RF\n",
    "    cW=1.\n",
    "    rescale=0.\n",
    "\n",
    "    \n",
    "if αtrain>0:  #alignment\n",
    "    γ=mu1t/(1/αtrain*mu2t+mu1t**2)**.5\n",
    "    \n",
    "else:         #if no GD step, no spike, thus 0 alignment\n",
    "    γ=0\n",
    "\n",
    "v=np.random.randn(d)    #spike\n",
    "v/=np.linalg.norm(v)\n",
    "v*=np.sqrt(d)\n",
    "v=v.reshape(d,1)\n",
    "\n",
    "\n",
    "W=cW*W0 \n",
    "\n",
    "Π=np.eye(d)-v@v.T/np.sum(v**2)\n",
    "Ω=W@Π@W.T\n",
    "\n",
    "    \n",
    "\n",
    "\n",
    "ζ=Π@np.random.randn(d,1)   #Πθ\n",
    "ζ/=np.linalg.norm(ζ)\n",
    "ζ*=np.sqrt(d)\n",
    "\n",
    "if αtrain==0:\n",
    "    ζ=np.zeros(d)\n",
    "    ζ[0]=np.sqrt(d)\n",
    "    ζ=ζ.reshape(d,1)\n",
    "\n",
    "\n",
    "a=γ*v+np.sqrt(1-γ**2)*ζ    #θ\n",
    "ρ=np.sqrt(np.sum((np.sqrt(1-γ**2)*ζ)**2)/d)\n"
   ]
  },
  {
   "cell_type": "code",
   "execution_count": 19,
   "id": "extraordinary-nomination",
   "metadata": {},
   "outputs": [],
   "source": [
    "D,U=np.linalg.eigh(Ω)"
   ]
  },
  {
   "cell_type": "code",
   "execution_count": 20,
   "id": "bacterial-bacon",
   "metadata": {},
   "outputs": [],
   "source": [
    "F=np.diag(U.T@W@v@v.T@W.T@U)\n",
    "H=np.diag(U.T@W@ζ@ζ.T@W.T@U)"
   ]
  },
  {
   "cell_type": "code",
   "execution_count": 21,
   "id": "dress-edmonton",
   "metadata": {},
   "outputs": [],
   "source": [
    "#cGET coefficients\n",
    "\n",
    "\n",
    "def μ0(k):\n",
    "    k*=rescale\n",
    "    return scheme.integrate(lambda z: f(k+np.sqrt(2)*z*cW))/np.pi**.5\n",
    "\n",
    "def μ1(k):\n",
    "    k*=rescale\n",
    "    return scheme.integrate(lambda z: f(k+np.sqrt(2)*z*cW)*np.sqrt(2)*z*cW)/np.pi**.5/cW**2\n",
    "    \n",
    "\n",
    "def μ2(k):    \n",
    "    mu0=μ0(k)\n",
    "    mu1=μ1(k)    \n",
    "    k*=rescale\n",
    "    result=scheme.integrate(lambda z: f(k+np.sqrt(2)*z*cW)**2)/np.pi**.5-mu0**2-mu1**2*cW**2\n",
    "    return np.sqrt(np.maximum(result, 0*result))\n",
    "    "
   ]
  },
  {
   "cell_type": "code",
   "execution_count": 22,
   "id": "respiratory-trash",
   "metadata": {},
   "outputs": [],
   "source": [
    "#auxiliary functions\n",
    "def h(k):\n",
    "    return scheme.integrate(lambda z: ϕ(γ*k+ρ*np.sqrt(2)*z))/np.pi**.5\n",
    "        \n",
    "\n",
    "def h1(k):\n",
    "    return scheme.integrate(lambda z: np.sqrt(2)*z*ϕ(γ*k+ρ*np.sqrt(2)*z))/np.pi**.5\n",
    "\n",
    "def hh(k):\n",
    "    return scheme.integrate(lambda z: ϕ(γ*k+ρ*np.sqrt(2)*z)**2)/np.pi**.5"
   ]
  },
  {
   "cell_type": "code",
   "execution_count": 23,
   "id": "adult-interview",
   "metadata": {},
   "outputs": [],
   "source": [
    "def update_overlaps(qhat1,qhat2,Vhat1,Vhat2,thetahat,ψhat,λ):\n",
    "    S=λ+Vhat1*D+Vhat2\n",
    "    q1=np.mean(D/S**2*(qhat1*D+qhat2+thetahat**2*F+ψhat**2*H))\n",
    "    q2=np.mean(1/S**2*(qhat1*D+qhat2+thetahat**2*F+ψhat**2*H))\n",
    "    V1=np.mean(D/S)\n",
    "    V2=np.mean(1/S)\n",
    "    theta=thetahat*np.mean(F/S)\n",
    "    ψ=ψhat*np.mean(H/S)   \n",
    "    \n",
    "    return q1,q2,V1,V2,theta,ψ\n",
    "    \n",
    "    "
   ]
  },
  {
   "cell_type": "code",
   "execution_count": 24,
   "id": "therapeutic-silly",
   "metadata": {},
   "outputs": [],
   "source": [
    "def update_m(q1,q2,V1,V2,theta,ψ, λ):\n",
    "    def V(k):\n",
    "        return μ1(k)**2*V1+μ2(k)**2*V2\n",
    "    if αtrain==0:\n",
    "        return 0\n",
    "    int1=quad(lambda k: μ0(k)*(h(k)-μ1(k)*k*theta)/(1+V(k))*Gaussian(k),-np.inf, np.inf)[0]\n",
    "    int2=quad(lambda k: μ0(k)**2/(1+V(k))*Gaussian(k),-np.inf, np.inf)[0]\n",
    "    return int1/int2"
   ]
  },
  {
   "cell_type": "code",
   "execution_count": 25,
   "id": "straight-problem",
   "metadata": {},
   "outputs": [],
   "source": [
    "def int_q1(k,q1,q2,V1,V2,theta,ψ,m):\n",
    "    Vk=μ1(k)**2*V1+μ2(k)**2*V2\n",
    "    qk=μ1(k)**2*q1+μ2(k)**2*q2\n",
    "    c=+μ0(k)*m+μ1(k)*k*theta\n",
    "    return μ1(k)**2*(μ1(k)**2*ψ**2+c**2+hh(k)-2*c*h(k)-2*μ1(k)*ψ*h1(k)+qk-μ1(k)**2*ψ**2)/(1+Vk)**2\n",
    "\n",
    "def int_q2(k,q1,q2,V1,V2,theta,ψ,m):\n",
    "    Vk=μ1(k)**2*V1+μ2(k)**2*V2\n",
    "    qk=μ1(k)**2*q1+μ2(k)**2*q2\n",
    "    c=+μ0(k)*m+μ1(k)*k*theta\n",
    "    return μ2(k)**2*(μ1(k)**2*ψ**2+c**2+hh(k)-2*c*h(k)-2*μ1(k)*ψ*h1(k)+qk-μ1(k)**2*ψ**2)/(1+Vk)**2\n",
    "\n",
    "\n",
    "def int_V1(k,q1,q2,V1,V2,theta,ψ,m):\n",
    "    Vk=μ1(k)**2*V1+μ2(k)**2*V2\n",
    "    return μ1(k)**2/(1+Vk)\n",
    "\n",
    "def int_V2(k,q1,q2,V1,V2,theta,ψ,m):\n",
    "    Vk=μ1(k)**2*V1+μ2(k)**2*V2\n",
    "    return μ2(k)**2/(1+Vk)\n",
    "\n",
    "def int_theta(k,q1,q2,V1,V2,theta,ψ,m):\n",
    "    Vk=μ1(k)**2*V1+μ2(k)**2*V2\n",
    "    qk=μ1(k)**2*q1+μ2(k)**2*q2\n",
    "    c=+μ0(k)*m+μ1(k)*k*theta\n",
    "    return k*μ1(k)*(h(k)-c)/(1+Vk)\n",
    "\n",
    "def int_ψ(k,q1,q2,V1,V2,theta,ψ,m):\n",
    "    Vk=μ1(k)**2*V1+μ2(k)**2*V2\n",
    "    c=+μ0(k)*m+μ1(k)*k*theta\n",
    "    return (h1(k)*μ1(k))/(1+Vk)\n",
    "\n",
    "def update_hat_overlaps(α,q1,q2,V1,V2,theta,ψ,m):\n",
    "    qhat1=α*quad(lambda k: Gaussian(k)*int_q1(k,q1,q2,V1,V2,theta,ψ,m),-np.inf, np.inf)[0]\n",
    "    qhat2=α*quad(lambda k: Gaussian(k)*int_q2(k,q1,q2,V1,V2,theta,ψ,m),-np.inf, np.inf)[0]\n",
    "    Vhat1=α*quad(lambda k: Gaussian(k)*int_V1(k,q1,q2,V1,V2,theta,ψ,m),-np.inf, np.inf)[0]\n",
    "    Vhat2=α*quad(lambda k: Gaussian(k)*int_V2(k,q1,q2,V1,V2,theta,ψ,m),-np.inf, np.inf)[0]\n",
    "    thetahat=α*quad(lambda k: Gaussian(k)*int_theta(k,q1,q2,V1,V2,theta,ψ,m),-np.inf, np.inf)[0]\n",
    "    ψhat=α*quad(lambda k: Gaussian(k)*int_ψ(k,q1,q2,V1,V2,theta,ψ,m),-np.inf, np.inf)[0]\n",
    "    \n",
    "    return qhat1,qhat2,Vhat1,Vhat2,thetahat,ψhat"
   ]
  },
  {
   "cell_type": "code",
   "execution_count": 26,
   "id": "changed-flour",
   "metadata": {},
   "outputs": [],
   "source": [
    "def int_mse(k,q1,q2,m, theta,ψ):\n",
    "    c=+μ0(k)*m+μ1(k)*k*theta\n",
    "    term1=hh(k)+c**2+μ1(k)**2*ψ**2-2*μ1(k)*ψ*h1(k)-2*c*h(k)\n",
    "    return term1+(q1*μ1(k)**2+q2*μ2(k)**2)-μ1(k)**2*ψ**2\n",
    "\n",
    "\n",
    "def mse(q1,q2,m, theta,ψ):\n",
    "    integral=quad(lambda k: Gaussian(k)*int_mse(k,q1,q2,m, theta,ψ),-np.inf,np.inf)[0]    \n",
    "    return integral"
   ]
  },
  {
   "cell_type": "code",
   "execution_count": 27,
   "id": "cognitive-haiti",
   "metadata": {},
   "outputs": [],
   "source": [
    "damping=0.5\n",
    "\n",
    "def damp(new, old):\n",
    "        return (1-damping) * new + damping * old"
   ]
  },
  {
   "cell_type": "markdown",
   "id": "interested-phone",
   "metadata": {},
   "source": [
    "### Solving the fixed point equations"
   ]
  },
  {
   "cell_type": "code",
   "execution_count": 28,
   "id": "practical-indonesia",
   "metadata": {},
   "outputs": [],
   "source": [
    "\n",
    "\n",
    "def iterate(α,λ=.1,max_iter=10000,tol=1e-4,verbose=True,init=[.8, .8,.1,.1,.5,.1,.1]):\n",
    "    last_flip=None\n",
    "    q1,q2,V1,V2,theta,ψ,m=init\n",
    "    qhat1,qhat2,Vhat1,Vhat2,thetahat,ψhat=0,0,0,0,0,0\n",
    "    for i in range(max_iter):\n",
    "        qhat1,qhat2,Vhat1,Vhat2,thetahat,ψhat=update_hat_overlaps(α,q1,q2,V1,V2,theta,ψ,m)\n",
    "        q1_tmp,q2_tmp,V1_tmp,V2_tmp,theta_tmp,ψ_tmp=update_overlaps(qhat1,qhat2,Vhat1,Vhat2,thetahat,ψhat,λ)\n",
    "        m_tmp=update_m(q1,q2,V1,V2,theta,ψ,λ)\n",
    "        if max([np.abs(q1_tmp-q1),np.abs(m_tmp-m),np.abs(q2_tmp-q2),np.abs(theta_tmp-theta)\n",
    "                ,np.abs(ψ_tmp-ψ)])<tol:\n",
    "            if verbose:\n",
    "                print(\"convcerged after {} steps\".format(i))\n",
    "            print(\"q1={} q2={} m={} theta={} psi={} V1={} V2={} \".format(q1,q2,m,theta,ψ, V1,V2))\n",
    "            return q1,q2,V1,V2,theta,ψ, m,qhat1,qhat2,Vhat1,Vhat2,thetahat,ψhat\n",
    "        \n",
    "        q1=damp(q1_tmp,q1)\n",
    "        m=damp(m_tmp,m)\n",
    "        V1=damp(V1_tmp,V1)\n",
    "        q2=damp(q2_tmp,q2)\n",
    "        V2=damp(V2_tmp,V2)\n",
    "        theta=damp(theta_tmp,theta)\n",
    "        ψ=damp(ψ_tmp,ψ)\n",
    "       \n",
    "        \n",
    "        if verbose:\n",
    "            print(\"q1={} q2={} m={} theta={} psi={} V1={} V2={} \".format(q1,q2,m,theta,ψ, V1,V2))\n",
    "        \n",
    "    print(α, \"Not converged\")\n",
    "    \n",
    "    return q1,q2,V1,V2,theta,ψ, m,qhat1,qhat2,Vhat1,Vhat2,thetahat,ψhat\n",
    "        \n",
    "        \n",
    "        "
   ]
  },
  {
   "cell_type": "code",
   "execution_count": 29,
   "id": "dynamic-ability",
   "metadata": {},
   "outputs": [],
   "source": [
    "def get_curves(alphas,λ=1e-3,verbose=True):\n",
    "    results={\"q1\":[], \"q2\":[], \"m\":[], \"V1\":[], \"V2\":[], \"theta\":[], \"psi\":[], \"mse\":[],\n",
    "             \"alpha\":[],\"lambda\":[]}\n",
    "\n",
    "    \n",
    "    init=[.1, .2,3,3,.5,.5,1.5]\n",
    "    for α in alphas:\n",
    "        q1,q2,V1,V2,theta, ψ, m,_,_,_,_,_,_=iterate(α=α,λ=λ,verbose=verbose,init=init)\n",
    "        init=[q1,q2,V1,V2,theta,ψ,m]\n",
    "        \n",
    "        error=mse(q1,q2,m,theta,ψ)\n",
    "        \n",
    "\n",
    "        results[\"q1\"].append(q1)\n",
    "        results[\"V1\"].append(V1)\n",
    "        results[\"q2\"].append(q2)\n",
    "        results[\"V2\"].append(V2)\n",
    "        results[\"m\"].append(m)\n",
    "        results[\"theta\"].append(theta)\n",
    "        results[\"psi\"].append(ψ)\n",
    "        \n",
    "        results[\"mse\"].append(error)\n",
    "        \n",
    "        results[\"lambda\"].append(λ)\n",
    "        results[\"alpha\"].append(α)\n",
    "        \n",
    "\n",
    "        print(r\"$\\alpha={}  mse={} \\n$\".format(α,error))\n",
    "    res=pd.DataFrame.from_dict(results)\n",
    "   \n",
    "    return res\n",
    "\n",
    "\n",
    "\n"
   ]
  },
  {
   "cell_type": "code",
   "execution_count": 30,
   "id": "continuous-glass",
   "metadata": {},
   "outputs": [],
   "source": [
    "\n",
    "λ=.1"
   ]
  },
  {
   "cell_type": "code",
   "execution_count": 32,
   "id": "practical-cooking",
   "metadata": {
    "scrolled": true
   },
   "outputs": [
    {
     "name": "stdout",
     "output_type": "stream",
     "text": [
      "q1=0.02372881830809684 q2=0.014701719115379179 m=1.099651611955196 theta=3.05209110905771e-05 psi=0.03449870493292915 V1=7.856944635858662 V2=8.72634578555341 \n",
      "$\\alpha=0.2  mse=0.048595388918455905 \\n$\n",
      "q1=0.05577484077204592 q2=0.049020756856853365 m=1.1309280698261936 theta=1.1900874988571654e-08 psi=0.11558086741638145 V1=3.7153569009265786 V2=5.634619976889811 \n",
      "$\\alpha=0.8999999999999999  mse=0.04311805329862696 \\n$\n",
      "q1=0.06057098276400547 q2=0.06477584199572466 m=1.1469631220454628 theta=1.5843275393627755e-08 psi=0.1552904228203129 V1=2.185300488537754 V2=4.004791139144784 \n",
      "$\\alpha=1.5999999999999999  mse=0.038072437563481894 \\n$\n",
      "q1=0.06160937194709534 q2=0.07326563738221675 m=1.1557129299775333 theta=1.8442595008818296e-08 psi=0.1763347229351096 V1=1.4978140789167558 V2=3.0784473698739676 \n",
      "$\\alpha=2.3  mse=0.03511150660016416 \\n$\n",
      "q1=0.062109192252237315 q2=0.07862239269691357 m=1.1610749989649645 theta=2.0112583239061443e-08 psi=0.18893004211351128 V1=1.1257753733890048 V2=2.4931478923311596 \n",
      "$\\alpha=3.0  mse=0.033340014535464826 \\n$\n"
     ]
    }
   ],
   "source": [
    "alphas=np.linspace(.2,3,5)\n",
    "res=get_curves(alphas,λ=λ,verbose=False)"
   ]
  },
  {
   "cell_type": "code",
   "execution_count": 33,
   "id": "virtual-brook",
   "metadata": {},
   "outputs": [
    {
     "data": {
      "text/plain": [
       "[<matplotlib.lines.Line2D at 0x2a73d7fa190>]"
      ]
     },
     "execution_count": 33,
     "metadata": {},
     "output_type": "execute_result"
    },
    {
     "data": {
      "image/png": "[encoded data removed]",
      "text/plain": [
       "<Figure size 432x288 with 1 Axes>"
      ]
     },
     "metadata": {
      "needs_background": "light"
     },
     "output_type": "display_data"
    }
   ],
   "source": [
    "plt.plot(res[\"alpha\"],res[\"mse\"])"
   ]
  },
  {
   "cell_type": "code",
   "execution_count": null,
   "id": "established-entrance",
   "metadata": {},
   "outputs": [],
   "source": []
  }
 ],
 "metadata": {
  "kernelspec": {
   "display_name": "Python 3",
   "language": "python",
   "name": "python3"
  },
  "language_info": {
   "codemirror_mode": {
    "name": "ipython",
    "version": 3
   },
   "file_extension": ".py",
   "mimetype": "text/x-python",
   "name": "python",
   "nbconvert_exporter": "python",
   "pygments_lexer": "ipython3",
   "version": "3.8.8"
  }
 },
 "nbformat": 4,
 "nbformat_minor": 5
}
