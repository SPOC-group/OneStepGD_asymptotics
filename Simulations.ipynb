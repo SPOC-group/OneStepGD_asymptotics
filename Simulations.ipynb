{
 "cells": [
  {
   "cell_type": "code",
   "execution_count": 4,
   "metadata": {},
   "outputs": [],
   "source": [
    "import numpy as np\n",
    "import matplotlib.pyplot as plt\n",
    "from scipy.special import erf   \n",
    "from sklearn.preprocessing import normalize\n",
    "from scipy.integrate import quad"
   ]
  },
  {
   "cell_type": "code",
   "execution_count": 5,
   "metadata": {},
   "outputs": [],
   "source": [
    "def aux_fun(n,ntest,d):   #creates train and test sets\n",
    "    Z = np.random.randn(n,d) ; Ztest = np.random.randn(ntest,d)\n",
    "    Y = f0(Z[:,0]) \n",
    "    Ytest = f0(Ztest[:,0])\n",
    "    return Z, Ztest, Y, Ytest\n",
    "\n",
    "\n",
    "def gaussian(x, mu, sig):\n",
    "    return np.exp(-np.power(x - mu, 2.) / (2 * np.power(sig, 2.)))/np.sqrt(2*np.pi)"
   ]
  },
  {
   "cell_type": "markdown",
   "metadata": {},
   "source": [
    "### Activations "
   ]
  },
  {
   "cell_type": "code",
   "execution_count": 6,
   "metadata": {},
   "outputs": [],
   "source": [
    "acts = { 'tanh': lambda x: np.tanh(x), \"ReLU\":lambda x: np.maximum(x,0*x),\"sin\":np.sin }\n",
    "acts_ders = {'tanh': lambda x: 1 - np.tanh(x)**2, \"ReLU\": lambda x: (1+np.sign(x))/2, \"sin\": np.cos}\n",
    "\n",
    "\n",
    "teach_act = 'tanh'\n",
    "f0 = acts[teach_act]         #σ_*\n",
    "stud_act = 'tanh' \n",
    "f = acts[stud_act]           #σ\n",
    "fprime = acts_ders[stud_act] #σ'\n",
    "\n",
    "fnn0 = lambda D , W , a : f(D@W.T)@a/np.sqrt(p)   #network function at initialization. D=data, W=weights, a=readout\n",
    "\n",
    "\n",
    "# Hermit coefficients\n",
    "to_int = lambda z: f(z) * z * gaussian(z,0,1)\n",
    "fhct = quad(to_int, -np.inf, np.inf)[0]         #h1\n",
    "to_int2 = lambda z: f(z) **2 *gaussian(z,0,1)\n",
    "fhct2 = quad(to_int2, -np.inf, np.inf)[0]       #h2"
   ]
  },
  {
   "cell_type": "code",
   "execution_count": 7,
   "metadata": {},
   "outputs": [],
   "source": [
    "ff=quad(lambda x: f0(x)**2*gaussian(x,0,1), -np.inf, np.inf)[0]              #h1\n",
    "ss=quad(lambda x: (fprime(x)-fhct)**2*gaussian(x,0,1), -np.inf, np.inf)[0]"
   ]
  },
  {
   "cell_type": "code",
   "execution_count": 13,
   "metadata": {},
   "outputs": [],
   "source": [
    "d = 2000\n",
    "p = d\n",
    "ntest = int(5*1e3)\n",
    "\n",
    "αtrain=.5              #α0\n",
    "ntrain=int(αtrain*d)   #n0\n",
    "\n",
    "nseeds = 3\n",
    "\n",
    "lr_strength = 1.      #̃η\n",
    "eta = lr_strength*np.sqrt(p)   #η=̃ηd\n",
    "\n",
    "\n",
    "alphas = np.linspace(.2,3,7)   \n",
    "lamb = .01                    #regularizations\n"
   ]
  },
  {
   "cell_type": "markdown",
   "metadata": {},
   "source": [
    "### Network at initialization "
   ]
  },
  {
   "cell_type": "code",
   "execution_count": 18,
   "metadata": {},
   "outputs": [],
   "source": [
    "#Initiliaze readout\n",
    "a0 = np.ones(p)/np.sqrt(p)\n",
    "\n",
    "#initialize first layer\n",
    "np.random.seed(58)\n",
    "W0 = 1/np.sqrt(d)*np.random.randn(p,d)\n",
    "W0=(W0.T/np.linalg.norm(W0,axis=1)).T"
   ]
  },
  {
   "cell_type": "markdown",
   "metadata": {},
   "source": [
    "### One gradient step "
   ]
  },
  {
   "cell_type": "code",
   "execution_count": 19,
   "metadata": {},
   "outputs": [],
   "source": [
    "n = ntrain\n",
    "# One single large gradient step\n",
    "if n!=0:\n",
    "    Z,Ztest,Y,Ytest = aux_fun(n,ntest,d) \n",
    "    G = 1/n * Z.T @ ( 1/np.sqrt(p) * np.outer( ( Y - fnn0(Z,W0,a0) ) , a0) * fprime(Z@W0.T))\n",
    "\n",
    "    Wnew = W0 + eta*np.sqrt(p)*G.T\n",
    "\n",
    "else: #if α0=0, keep network at initialization\n",
    "    Wnew=W0.copy()\n",
    "    G=np.zeros(Wnew.shape).T"
   ]
  },
  {
   "cell_type": "markdown",
   "metadata": {},
   "source": [
    "### Training readout"
   ]
  },
  {
   "cell_type": "code",
   "execution_count": 20,
   "metadata": {},
   "outputs": [],
   "source": [
    "def ridge_estimator(X, y, lamb=0.1):\n",
    "    '''\n",
    "    Implements the pseudo-inverse ridge estimator.\n",
    "    '''\n",
    "    m, n = X.shape\n",
    "    if m >= n:\n",
    "        return np.linalg.inv(X.T @ X + lamb*np.identity(n)) @ X.T @ y\n",
    "    elif m < n:\n",
    "        return X.T @ np.linalg.inv(X @ X.T + lamb*np.identity(m)) @ y\n",
    "    \n",
    "def get_errors_ridge(Xtrain,Xtest,Ytrain,Ytest,lamb,verbose = True,seeds=1):\n",
    "    ' get errors for ridge regression with fixed data matrices'\n",
    "    ' normalize the data by dividing by sqrt(p) in the ridge estimator while label are of O(1) already'\n",
    "    n,p = Xtrain.shape\n",
    "    eg, et = [], [] \n",
    "    w = ridge_estimator(Xtrain / np.sqrt(p), Ytrain, lamb)\n",
    "    yhat_train = Xtrain @ w / np.sqrt(p)\n",
    "    yhat_test = Xtest @ w   / np.sqrt(p)\n",
    "    \n",
    "    train_loss = np.mean((Ytrain - yhat_train)**2)      # Train error    \n",
    "    test_error = np.mean((Ytest - yhat_test)**2)        # Test error\n",
    "    eg.append(test_error)   ;  et.append(train_loss)\n",
    "    if verbose:\n",
    "        print(f'train loss {train_loss} || test error {test_error}')\n",
    "\n",
    "    return (np.mean(et), np.mean(eg) ,w)      "
   ]
  },
  {
   "cell_type": "code",
   "execution_count": 21,
   "metadata": {},
   "outputs": [
    {
     "name": "stdout",
     "output_type": "stream",
     "text": [
      "alpha = 0.2\n",
      "train loss 0.00048208817003604463 || test error 0.2990775949993957\n",
      "train loss 0.0004931834720543016 || test error 0.2898524418194445\n",
      "train loss 0.00042926520128168074 || test error 0.29418381263621085\n",
      "alpha = 0.6666666666666666\n",
      "train loss 0.0037063771584939925 || test error 0.3218365759752591\n",
      "train loss 0.003665272556044249 || test error 0.31863128816064645\n",
      "train loss 0.003859688133573708 || test error 0.3151598647331156\n",
      "alpha = 1.1333333333333333\n",
      "train loss 0.019119317852849458 || test error 0.26713115046865477\n",
      "train loss 0.01940206368818777 || test error 0.2885155886165104\n",
      "train loss 0.01960466334608553 || test error 0.27541431235674196\n",
      "alpha = 1.5999999999999999\n",
      "train loss 0.039379060985708036 || test error 0.19540339213297506\n",
      "train loss 0.03981533232741456 || test error 0.21767984115339958\n",
      "train loss 0.03873253779595396 || test error 0.20400605095996252\n",
      "alpha = 2.0666666666666664\n",
      "train loss 0.051667807151070624 || test error 0.16899557812018212\n",
      "train loss 0.053454434206446674 || test error 0.17510121804693074\n",
      "train loss 0.05113408925595968 || test error 0.1724069785141186\n",
      "alpha = 2.533333333333333\n",
      "train loss 0.059998433623082166 || test error 0.15161510868072295\n",
      "train loss 0.061184111343654916 || test error 0.1566964898890306\n",
      "train loss 0.05964001306464476 || test error 0.15631225980360028\n",
      "alpha = 3.0\n",
      "train loss 0.06455003896318397 || test error 0.1426574683324664\n",
      "train loss 0.06793999977349138 || test error 0.14221553063145795\n",
      "train loss 0.06456052238181638 || test error 0.1485439373561868\n"
     ]
    }
   ],
   "source": [
    "errgs_mean , errts_mean = [] , []\n",
    "errgs_std , errts_std = [] , [] \n",
    "\n",
    "\n",
    "\n",
    "for alpha in alphas:\n",
    "    print(f'alpha = {alpha}')\n",
    "    \n",
    "    errgs, errts = [] , [] \n",
    "    \n",
    "    for trial in range(nseeds):\n",
    "        np.random.seed(trial*45)\n",
    "\n",
    "        n2=int(alpha*d)\n",
    "        \n",
    "        \n",
    "        Z,Ztest,Y,Ytest = aux_fun(n2,ntest,d)     #get train and test sets\n",
    "\n",
    "        X = f(Z@Wnew.T) ; Xtest = f(Ztest@Wnew.T) \n",
    "        e1,e2,w = get_errors_ridge(X,Xtest,Y,Ytest,lamb)\n",
    "        errgs.append(e2) ; errts.append(e1)\n",
    "\n",
    "        \n",
    "    errgs_mean.append(np.mean(errgs)) ; errts_mean.append(np.mean(errts))\n",
    "    errgs_std.append(np.std(errgs)) ; errts_std.append(np.std(errts))"
   ]
  },
  {
   "cell_type": "code",
   "execution_count": 22,
   "metadata": {},
   "outputs": [
    {
     "data": {
      "text/plain": [
       "<ErrorbarContainer object of 3 artists>"
      ]
     },
     "execution_count": 22,
     "metadata": {},
     "output_type": "execute_result"
    },
    {
     "data": {
      "image/png": "[encoded data removed]",
      "text/plain": [
       "<Figure size 432x288 with 1 Axes>"
      ]
     },
     "metadata": {
      "needs_background": "light"
     },
     "output_type": "display_data"
    }
   ],
   "source": [
    "plt.errorbar(alphas,errgs_mean,errgs_std,marker=\".\")"
   ]
  },
  {
   "cell_type": "code",
   "execution_count": null,
   "metadata": {},
   "outputs": [],
   "source": []
  }
 ],
 "metadata": {
  "kernelspec": {
   "display_name": "Python 3",
   "language": "python",
   "name": "python3"
  },
  "language_info": {
   "codemirror_mode": {
    "name": "ipython",
    "version": 3
   },
   "file_extension": ".py",
   "mimetype": "text/x-python",
   "name": "python",
   "nbconvert_exporter": "python",
   "pygments_lexer": "ipython3",
   "version": "3.8.8"
  },
  "vscode": {
   "interpreter": {
    "hash": "40d3a090f54c6569ab1632332b64b2c03c39dcf918b08424e98f38b5ae0af88f"
   }
  }
 },
 "nbformat": 4,
 "nbformat_minor": 2
}
